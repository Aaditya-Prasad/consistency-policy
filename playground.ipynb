{
 "cells": [
  {
   "cell_type": "code",
   "execution_count": 1,
   "metadata": {},
   "outputs": [
    {
     "name": "stderr",
     "output_type": "stream",
     "text": [
      "/juno/u/aadityap/miniforge3/envs/robodiff-retry/lib/python3.9/site-packages/tqdm/auto.py:22: TqdmWarning: IProgress not found. Please update jupyter and ipywidgets. See https://ipywidgets.readthedocs.io/en/stable/user_install.html\n",
      "  from .autonotebook import tqdm as notebook_tqdm\n"
     ]
    }
   ],
   "source": [
    "import torch\n",
    "from torch import nn\n",
    "from diffusion_policy.dataset.base_dataset import BaseImageDataset, LinearNormalizer\n",
    "from consistency_policy.utils import get_policy\n",
    "from consistency_policy.policy_wrapper import PolicyWrapperRobomimic\n",
    "import numpy as np"
   ]
  },
  {
   "cell_type": "code",
   "execution_count": 2,
   "metadata": {},
   "outputs": [],
   "source": [
    "ckpt_path = '/juno/u/aadityap/Consistency-Accelerated-Policy-Networks/outputs/ctm/jimmy/checkpoints/epoch=0200-val_mse_error=0.228.ckpt'"
   ]
  },
  {
   "cell_type": "code",
   "execution_count": 3,
   "metadata": {},
   "outputs": [
    {
     "name": "stdout",
     "output_type": "stream",
     "text": [
      "You are using the CTM base workspace! Ensure that you don't wish to use the normal DP base workspace.\n",
      "Using scheduler singular\n",
      "Using CTM scheduler\n",
      "\n",
      "============= Initialized Observation Utils with Obs Spec =============\n",
      "\n",
      "using obs modality: low_dim with keys: ['base_pose', 'arm_quat', 'arm_pos', 'gripper_pos']\n",
      "using obs modality: rgb with keys: ['base_image', 'wrist_image']\n",
      "using obs modality: depth with keys: []\n",
      "using obs modality: scan with keys: []\n"
     ]
    },
    {
     "name": "stderr",
     "output_type": "stream",
     "text": [
      "/juno/u/aadityap/miniforge3/envs/robodiff-retry/lib/python3.9/site-packages/torchvision/models/_utils.py:208: UserWarning: The parameter 'pretrained' is deprecated since 0.13 and will be removed in 0.15, please use 'weights' instead.\n",
      "  warnings.warn(\n",
      "/juno/u/aadityap/miniforge3/envs/robodiff-retry/lib/python3.9/site-packages/torchvision/models/_utils.py:223: UserWarning: Arguments other than a weight enum or `None` for 'weights' are deprecated since 0.13 and will be removed in 0.15. The current behavior is equivalent to passing `weights=None`.\n",
      "  warnings.warn(msg)\n"
     ]
    },
    {
     "name": "stdout",
     "output_type": "stream",
     "text": [
      "Inference mode or invalid teacher time embed! You should be doing inference only!\n",
      "Using losses:  {'ctm': 1, 'dsm': 1}\n",
      "CM params: 2.594075e+08\n",
      "Teacher params: 2.557375e+08\n",
      "Vision params: 2.239418e+07\n",
      "YOU ARE EXCLUDING:  ['optimizer']\n",
      "model\n",
      "dict_keys(['model', 'optimizer'])\n",
      "optimizer\n",
      "dict_keys(['model', 'optimizer'])\n",
      "_output_dir\n",
      "global_step\n",
      "epoch\n"
     ]
    }
   ],
   "source": [
    "policy = get_policy(ckpt_path)"
   ]
  },
  {
   "cell_type": "code",
   "execution_count": 4,
   "metadata": {},
   "outputs": [],
   "source": [
    "device = 'cuda' if torch.cuda.is_available() else 'cpu'\n",
    "policy = policy.to(device)\n",
    "policy.eval()\n",
    "for param in policy.parameters():\n",
    "    param.requires_grad = False\n",
    "pw = PolicyWrapperRobomimic(policy, 2, 8, device=device)"
   ]
  },
  {
   "cell_type": "code",
   "execution_count": 5,
   "metadata": {},
   "outputs": [],
   "source": [
    "obs = {\n",
    "    'base_pose': np.zeros(3),\n",
    "    'arm_pos': np.zeros(3),\n",
    "    'arm_quat': np.zeros(4),\n",
    "    'gripper_pos': np.zeros(1),\n",
    "    'base_image': np.zeros((84, 84, 3), dtype=np.uint8),\n",
    "    'wrist_image': np.zeros((84, 84, 3), dtype=np.uint8),\n",
    "}"
   ]
  },
  {
   "cell_type": "code",
   "execution_count": 9,
   "metadata": {},
   "outputs": [
    {
     "name": "stdout",
     "output_type": "stream",
     "text": [
      "[ 0.15361279  0.00192948  0.00346004  1.         -0.13698481 -0.02300356\n",
      "  0.09278427  0.915581   -0.3452509   0.04831392  1.          1.\n",
      "  0.46922943  0.46922943]\n"
     ]
    }
   ],
   "source": [
    "action = pw.get_action(obs)\n",
    "print(action)"
   ]
  }
 ],
 "metadata": {
  "kernelspec": {
   "display_name": "Python 3",
   "language": "python",
   "name": "python3"
  },
  "language_info": {
   "codemirror_mode": {
    "name": "ipython",
    "version": 3
   },
   "file_extension": ".py",
   "mimetype": "text/x-python",
   "name": "python",
   "nbconvert_exporter": "python",
   "pygments_lexer": "ipython3",
   "version": "3.9.15"
  }
 },
 "nbformat": 4,
 "nbformat_minor": 2
}
